{
 "cells": [
  {
   "cell_type": "code",
   "execution_count": 1,
   "metadata": {},
   "outputs": [],
   "source": [
    "# A linear regression learning algorithm example using TensorFlow library.\n",
    "\n",
    "# Author: Aymeric Damien\n",
    "# Project: https://github.com/aymericdamien/TensorFlow-Examples/"
   ]
  },
  {
   "cell_type": "code",
   "execution_count": 2,
   "metadata": {},
   "outputs": [],
   "source": [
    "import tensorflow as tf\n",
    "import numpy\n",
    "import matplotlib.pyplot as plt\n",
    "import datetime\n",
    "rng = numpy.random"
   ]
  },
  {
   "cell_type": "code",
   "execution_count": 3,
   "metadata": {},
   "outputs": [],
   "source": [
    "# Parameters\n",
    "learning_rate = 0.01\n",
    "training_epochs = 2000\n",
    "display_step = 50"
   ]
  },
  {
   "cell_type": "code",
   "execution_count": 4,
   "metadata": {},
   "outputs": [],
   "source": [
    "# Training Data\n",
    "train_X = numpy.asarray([3.3,4.4,5.5,6.71,6.93,4.168,9.779,6.182,7.59,2.167,\n",
    "                         7.042,10.791,5.313,7.997,5.654,9.27,3.1])\n",
    "train_Y = numpy.asarray([1.7,2.76,2.09,3.19,1.694,1.573,3.366,2.596,2.53,1.221,\n",
    "                         2.827,3.465,1.65,2.904,2.42,2.94,1.3])\n",
    "n_samples = train_X.shape[0]"
   ]
  },
  {
   "cell_type": "code",
   "execution_count": 5,
   "metadata": {},
   "outputs": [],
   "source": [
    "# tf Graph Input\n",
    "X = tf.placeholder(\"float\")\n",
    "Y = tf.placeholder(\"float\")\n",
    "\n",
    "# Set model weights\n",
    "W = tf.Variable(rng.randn(), name=\"weight\")\n",
    "b = tf.Variable(rng.randn(), name=\"bias\")"
   ]
  },
  {
   "cell_type": "code",
   "execution_count": 6,
   "metadata": {},
   "outputs": [],
   "source": [
    "# Construct a linear model\n",
    "pred = tf.add(tf.multiply(X, W), b)"
   ]
  },
  {
   "cell_type": "code",
   "execution_count": 7,
   "metadata": {},
   "outputs": [],
   "source": [
    "# Mean squared error\n",
    "cost = tf.reduce_sum(tf.pow(pred-Y, 2))/(2*n_samples)\n",
    "#cost = tf.losses.huber_loss(labels=Y,predictions=pred)/(n_samples)\n",
    "#implementation of huber loss\n",
    "\n",
    "\n",
    "# Gradient descent\n",
    "optimizer = tf.train.GradientDescentOptimizer(learning_rate).minimize(cost)"
   ]
  },
  {
   "cell_type": "code",
   "execution_count": 8,
   "metadata": {},
   "outputs": [],
   "source": [
    "# Initializing the variables\n",
    "init = tf.global_variables_initializer()"
   ]
  },
  {
   "cell_type": "code",
   "execution_count": 9,
   "metadata": {},
   "outputs": [
    {
     "name": "stdout",
     "output_type": "stream",
     "text": [
      "Epoch: 0050 cost= 0.132010445 W= 0.11883279 b= 1.7421501\n",
      "Epoch: 0100 cost= 0.125671387 W= 0.12660977 b= 1.686203\n",
      "Epoch: 0150 cost= 0.120063193 W= 0.13392437 b= 1.6335824\n",
      "Epoch: 0200 cost= 0.115101643 W= 0.14080396 b= 1.5840911\n",
      "Epoch: 0250 cost= 0.110712394 W= 0.147274 b= 1.5375463\n",
      "Epoch: 0300 cost= 0.106829315 W= 0.15335904 b= 1.4937712\n",
      "Epoch: 0350 cost= 0.103393748 W= 0.15908237 b= 1.4525981\n",
      "Epoch: 0400 cost= 0.100354046 W= 0.16446552 b= 1.4138719\n",
      "Epoch: 0450 cost= 0.097664744 W= 0.16952842 b= 1.3774493\n",
      "Epoch: 0500 cost= 0.095285304 W= 0.17429057 b= 1.3431914\n",
      "Epoch: 0550 cost= 0.093180157 W= 0.17876922 b= 1.310972\n",
      "Epoch: 0600 cost= 0.091317512 W= 0.18298166 b= 1.2806678\n",
      "Epoch: 0650 cost= 0.089669406 W= 0.18694383 b= 1.252164\n",
      "Epoch: 0700 cost= 0.088211268 W= 0.19067019 b= 1.2253573\n",
      "Epoch: 0750 cost= 0.086921401 W= 0.19417422 b= 1.2001499\n",
      "Epoch: 0800 cost= 0.085779972 W= 0.19746998 b= 1.1764402\n",
      "Epoch: 0850 cost= 0.084770046 W= 0.20056969 b= 1.154141\n",
      "Epoch: 0900 cost= 0.083876364 W= 0.20348522 b= 1.1331669\n",
      "Epoch: 0950 cost= 0.083085567 W= 0.20622736 b= 1.1134402\n",
      "Epoch: 1000 cost= 0.082385711 W= 0.20880674 b= 1.094884\n",
      "Epoch: 1050 cost= 0.081766434 W= 0.21123272 b= 1.0774319\n",
      "Epoch: 1100 cost= 0.081218489 W= 0.2135141 b= 1.0610198\n",
      "Epoch: 1150 cost= 0.080733582 W= 0.2156599 b= 1.045583\n",
      "Epoch: 1200 cost= 0.080304451 W= 0.2176781 b= 1.0310639\n",
      "Epoch: 1250 cost= 0.079924650 W= 0.21957639 b= 1.0174078\n",
      "Epoch: 1300 cost= 0.079588540 W= 0.22136167 b= 1.0045645\n",
      "Epoch: 1350 cost= 0.079291105 W= 0.22304066 b= 0.9924859\n",
      "Epoch: 1400 cost= 0.079027817 W= 0.22462001 b= 0.98112434\n",
      "Epoch: 1450 cost= 0.078794777 W= 0.22610548 b= 0.9704384\n",
      "Epoch: 1500 cost= 0.078588493 W= 0.2275026 b= 0.96038747\n",
      "Epoch: 1550 cost= 0.078405961 W= 0.22881639 b= 0.9509364\n",
      "Epoch: 1600 cost= 0.078244388 W= 0.23005183 b= 0.9420482\n",
      "Epoch: 1650 cost= 0.078101359 W= 0.23121394 b= 0.9336885\n",
      "Epoch: 1700 cost= 0.077974737 W= 0.2323069 b= 0.9258256\n",
      "Epoch: 1750 cost= 0.077862643 W= 0.23333487 b= 0.9184305\n",
      "Epoch: 1800 cost= 0.077763386 W= 0.23430175 b= 0.91147476\n",
      "Epoch: 1850 cost= 0.077675492 W= 0.23521109 b= 0.9049329\n",
      "Epoch: 1900 cost= 0.077597678 W= 0.23606646 b= 0.8987797\n",
      "Epoch: 1950 cost= 0.077528760 W= 0.23687081 b= 0.8929932\n",
      "Epoch: 2000 cost= 0.077467754 W= 0.23762742 b= 0.88755\n",
      "Optimization Finished!\n",
      "Training cost= 0.077467754 W= 0.23762742 b= 0.88755 \n",
      "\n"
     ]
    },
    {
     "data": {
      "image/png": "[encoded data removed]",
      "text/plain": [
       "<Figure size 432x288 with 1 Axes>"
      ]
     },
     "metadata": {},
     "output_type": "display_data"
    },
    {
     "name": "stdout",
     "output_type": "stream",
     "text": [
      "Execution time=  0:00:11.808030 \n",
      "\n"
     ]
    }
   ],
   "source": [
    "# Launch the graph\n",
    "starttime = datetime.datetime.now()\n",
    "with tf.Session() as sess:\n",
    "    sess.run(init)\n",
    "\n",
    "    # Fit all training data\n",
    "    for epoch in range(training_epochs):\n",
    "        for (x, y) in zip(train_X, train_Y):\n",
    "            sess.run(optimizer, feed_dict={X: x, Y: y})\n",
    "\n",
    "        #Display logs per epoch step\n",
    "        if (epoch+1) % display_step == 0:\n",
    "            c = sess.run(cost, feed_dict={X: train_X, Y:train_Y})\n",
    "            print \"Epoch:\", '%04d' % (epoch+1), \"cost=\", \"{:.9f}\".format(c), \\\n",
    "                \"W=\", sess.run(W), \"b=\", sess.run(b)\n",
    "\n",
    "    print \"Optimization Finished!\"\n",
    "    training_cost = sess.run(cost, feed_dict={X: train_X, Y: train_Y})\n",
    "    print \"Training cost=\", training_cost, \"W=\", sess.run(W), \"b=\", sess.run(b), '\\n'\n",
    "    \n",
    "    #Graphic display\n",
    "    plt.plot(train_X, train_Y, 'ro', label='Original data')\n",
    "    plt.plot(train_X, sess.run(W) * train_X + sess.run(b), label='Fitted line')\n",
    "    plt.legend()\n",
    "    plt.show()\n",
    "endtime = datetime.datetime.now()\n",
    "print \"Execution time= \", endtime-starttime , '\\n'"
   ]
  },
  {
   "cell_type": "code",
   "execution_count": 10,
   "metadata": {},
   "outputs": [],
   "source": [
    "# Regression result\n",
    "#Execution time=  0:00:06.027553 \n",
    "#Execution time=  0:00:10.060598 "
   ]
  },
  {
   "cell_type": "markdown",
   "metadata": {},
   "source": [
    "#Training cost= 0.08181506 W= 0.28861576 b= 0.5207436 \n",
    "\n",
    "\n",
    "#Execution time=  0:00:05.853682 \n",
    "#Optimization Finished!\n",
    "#Training cost= 0.0046252967 W= 0.2724383 b= 0.6371231 \n",
    "\n",
    "Optimization Finished!\n",
    "Training cost= 0.12481513 W= 0.37195432 b= -0.078787886 \n",
    "\n",
    "\n",
    "Execution time=  0:00:03.036270 \n",
    "\n",
    "Optimization Finished!\n",
    "Training cost= 0.006626141 W= 0.35551193 b= 0.034211658 \n",
    "\n",
    "2000 huber\n",
    "\n",
    "Optimization Finished!\n",
    "Training cost= 0.0045304666 W= 0.2469067 b= 0.82079566 \n",
    "\n",
    "\n",
    "Execution time=  0:00:19.591783 \n",
    "\n",
    "2000 normal\n",
    "Optimization Finished!\n",
    "Training cost= 0.077467754 W= 0.23762742 b= 0.88755 \n",
    "\n",
    "\n",
    "\n"
   ]
  }
 ],
 "metadata": {
  "kernelspec": {
   "display_name": "Python 2",
   "language": "python",
   "name": "python2"
  },
  "language_info": {
   "codemirror_mode": {
    "name": "ipython",
    "version": 2
   },
   "file_extension": ".py",
   "mimetype": "text/x-python",
   "name": "python",
   "nbconvert_exporter": "python",
   "pygments_lexer": "ipython2",
   "version": "2.7.15"
  }
 },
 "nbformat": 4,
 "nbformat_minor": 1
}
