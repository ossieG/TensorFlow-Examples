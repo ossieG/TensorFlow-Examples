{
 "cells": [
  {
   "cell_type": "code",
   "execution_count": 1,
   "metadata": {},
   "outputs": [],
   "source": [
    "# A linear regression learning algorithm example using TensorFlow library.\n",
    "\n",
    "# Author: Aymeric Damien\n",
    "# Project: https://github.com/aymericdamien/TensorFlow-Examples/"
   ]
  },
  {
   "cell_type": "code",
   "execution_count": 2,
   "metadata": {},
   "outputs": [],
   "source": [
    "import tensorflow as tf\n",
    "import numpy\n",
    "import matplotlib.pyplot as plt\n",
    "import datetime\n",
    "rng = numpy.random"
   ]
  },
  {
   "cell_type": "code",
   "execution_count": 3,
   "metadata": {},
   "outputs": [],
   "source": [
    "# Parameters\n",
    "learning_rate = 0.01\n",
    "training_epochs = 1000\n",
    "display_step = 50"
   ]
  },
  {
   "cell_type": "code",
   "execution_count": 4,
   "metadata": {},
   "outputs": [],
   "source": [
    "# Training Data\n",
    "train_X = numpy.asarray([3.3,4.4,5.5,6.71,6.93,4.168,9.779,6.182,7.59,2.167,\n",
    "                         7.042,10.791,5.313,7.997,5.654,9.27,3.1])\n",
    "train_Y = numpy.asarray([1.7,2.76,2.09,3.19,1.694,1.573,3.366,2.596,2.53,1.221,\n",
    "                         2.827,3.465,1.65,2.904,2.42,2.94,1.3])\n",
    "n_samples = train_X.shape[0]"
   ]
  },
  {
   "cell_type": "code",
   "execution_count": 5,
   "metadata": {},
   "outputs": [],
   "source": [
    "# tf Graph Input\n",
    "X = tf.placeholder(\"float\")\n",
    "Y = tf.placeholder(\"float\")\n",
    "\n",
    "# Set model weights\n",
    "W = tf.Variable(rng.randn(), name=\"weight\")\n",
    "b = tf.Variable(rng.randn(), name=\"bias\")"
   ]
  },
  {
   "cell_type": "code",
   "execution_count": 6,
   "metadata": {},
   "outputs": [],
   "source": [
    "# Construct a linear model\n",
    "pred = tf.add(tf.multiply(X, W), b)"
   ]
  },
  {
   "cell_type": "code",
   "execution_count": 7,
   "metadata": {},
   "outputs": [],
   "source": [
    "# Mean squared error\n",
    "#cost = tf.reduce_sum(tf.pow(pred-Y, 2))/(2*n_samples)\n",
    "\n",
    "#implementation of huber loss\n",
    "innerloss = tf.reduce_sum(pred-Y)\n",
    "\n",
    "# Gradient descent\n",
    "optimizer = tf.train.GradientDescentOptimizer(learning_rate).minimize(cost)"
   ]
  },
  {
   "cell_type": "code",
   "execution_count": 8,
   "metadata": {},
   "outputs": [],
   "source": [
    "# Initializing the variables\n",
    "init = tf.global_variables_initializer()"
   ]
  },
  {
   "cell_type": "code",
   "execution_count": 10,
   "metadata": {},
   "outputs": [
    {
     "name": "stdout",
     "output_type": "stream",
     "text": [
      "Epoch: 0050 cost= 0.079896912 W= 0.27993286 b= 0.58320785\n",
      "Epoch: 0100 cost= 0.079558916 W= 0.27812815 b= 0.59619075\n",
      "Epoch: 0150 cost= 0.079260126 W= 0.27643088 b= 0.60840094\n",
      "Epoch: 0200 cost= 0.078995980 W= 0.27483484 b= 0.61988246\n",
      "Epoch: 0250 cost= 0.078762464 W= 0.27333382 b= 0.6306813\n",
      "Epoch: 0300 cost= 0.078556031 W= 0.2719219 b= 0.64083797\n",
      "Epoch: 0350 cost= 0.078373536 W= 0.27059415 b= 0.6503901\n",
      "Epoch: 0400 cost= 0.078212209 W= 0.26934522 b= 0.6593746\n",
      "Epoch: 0450 cost= 0.078069612 W= 0.2681706 b= 0.66782486\n",
      "Epoch: 0500 cost= 0.077943541 W= 0.26706582 b= 0.67577267\n",
      "Epoch: 0550 cost= 0.077832133 W= 0.26602662 b= 0.68324786\n",
      "Epoch: 0600 cost= 0.077733651 W= 0.2650494 b= 0.6902785\n",
      "Epoch: 0650 cost= 0.077646613 W= 0.26413018 b= 0.6968913\n",
      "Epoch: 0700 cost= 0.077569723 W= 0.2632657 b= 0.7031106\n",
      "Epoch: 0750 cost= 0.077501774 W= 0.2624524 b= 0.7089604\n",
      "Epoch: 0800 cost= 0.077441700 W= 0.2616877 b= 0.7144626\n",
      "Epoch: 0850 cost= 0.077388659 W= 0.26096824 b= 0.7196378\n",
      "Epoch: 0900 cost= 0.077341773 W= 0.26029176 b= 0.72450465\n",
      "Epoch: 0950 cost= 0.077300370 W= 0.2596554 b= 0.7290829\n",
      "Epoch: 1000 cost= 0.077263780 W= 0.25905678 b= 0.733389\n",
      "Optimization Finished!\n",
      "Training cost= 0.07726378 W= 0.25905678 b= 0.733389 \n",
      "\n"
     ]
    },
    {
     "data": {
      "image/png": "[encoded data removed]",
      "text/plain": [
       "<Figure size 432x288 with 1 Axes>"
      ]
     },
     "metadata": {},
     "output_type": "display_data"
    },
    {
     "name": "stdout",
     "output_type": "stream",
     "text": [
      "Execution time=  0:00:06.027553 \n",
      "\n"
     ]
    }
   ],
   "source": [
    "# Launch the graph\n",
    "starttime = datetime.datetime.now()\n",
    "with tf.Session() as sess:\n",
    "    sess.run(init)\n",
    "\n",
    "    # Fit all training data\n",
    "    for epoch in range(training_epochs):\n",
    "        for (x, y) in zip(train_X, train_Y):\n",
    "            sess.run(optimizer, feed_dict={X: x, Y: y})\n",
    "\n",
    "        #Display logs per epoch step\n",
    "        if (epoch+1) % display_step == 0:\n",
    "            c = sess.run(cost, feed_dict={X: train_X, Y:train_Y})\n",
    "            print \"Epoch:\", '%04d' % (epoch+1), \"cost=\", \"{:.9f}\".format(c), \\\n",
    "                \"W=\", sess.run(W), \"b=\", sess.run(b)\n",
    "\n",
    "    print \"Optimization Finished!\"\n",
    "    training_cost = sess.run(cost, feed_dict={X: train_X, Y: train_Y})\n",
    "    print \"Training cost=\", training_cost, \"W=\", sess.run(W), \"b=\", sess.run(b), '\\n'\n",
    "    \n",
    "    #Graphic display\n",
    "    plt.plot(train_X, train_Y, 'ro', label='Original data')\n",
    "    plt.plot(train_X, sess.run(W) * train_X + sess.run(b), label='Fitted line')\n",
    "    plt.legend()\n",
    "    plt.show()\n",
    "endtime = datetime.datetime.now()\n",
    "print \"Execution time= \", endtime-starttime , '\\n'"
   ]
  },
  {
   "cell_type": "code",
   "execution_count": null,
   "metadata": {},
   "outputs": [],
   "source": [
    "# Regression result\n",
    "Execution time=  0:00:06.027553 "
   ]
  }
 ],
 "metadata": {
  "kernelspec": {
   "display_name": "Python 2",
   "language": "python",
   "name": "python2"
  },
  "language_info": {
   "codemirror_mode": {
    "name": "ipython",
    "version": 2
   },
   "file_extension": ".py",
   "mimetype": "text/x-python",
   "name": "python",
   "nbconvert_exporter": "python",
   "pygments_lexer": "ipython2",
   "version": "2.7.15"
  }
 },
 "nbformat": 4,
 "nbformat_minor": 1
}
